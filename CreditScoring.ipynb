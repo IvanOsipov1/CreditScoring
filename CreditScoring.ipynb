{
 "cells": [
  {
   "cell_type": "code",
   "execution_count": 4,
   "id": "99b63d5b-6622-419b-993a-7f136b5478b5",
   "metadata": {},
   "outputs": [],
   "source": [
    "import pandas as pd\n",
    "import numpy as np\n",
    "\n",
    "import seaborn as sns\n",
    "import matplotlib.pyplot as plt\n",
    "\n",
    "from sklearn.model_selection import train_test_split, StratifiedGroupKFold, GridSearchCV\n",
    "from sklearn.linear_model import LogisticRegression\n",
    "from sklearn.metrics import precision_score, recall_score, auc, accuracy_score, roc_auc_score, f1_score\n",
    "from sklearn.metrics import classification_report, roc_curve\n",
    "import warnings\n",
    "warnings.filterwarnings('ignore')\n",
    "RAND = 10"
   ]
  },
  {
   "cell_type": "code",
   "execution_count": 35,
   "id": "607d9f09-a0e7-4d63-8221-561bc0c76c39",
   "metadata": {},
   "outputs": [],
   "source": [
    "df = pd.read_csv('score.csv')\n",
    "droplist = []\n",
    "for i in range(2, 22):\n",
    "    droplist.append('document_' + str(i) + '_flag')\n",
    "    \n",
    "df = df.drop(columns=droplist)\n",
    "df_without_nan = df.dropna()\n",
    "mode_values = df_without_nan.mode().iloc[0]\n",
    "df_fill = df.fillna(mode_values)\n",
    "df = df_fill"
   ]
  },
  {
   "cell_type": "code",
   "execution_count": 6,
   "id": "7c0fa5b9-56a0-4267-b837-743ec8b3e672",
   "metadata": {},
   "outputs": [
    {
     "data": {
      "text/html": [
       "<div>\n",
       "<style scoped>\n",
       "    .dataframe tbody tr th:only-of-type {\n",
       "        vertical-align: middle;\n",
       "    }\n",
       "\n",
       "    .dataframe tbody tr th {\n",
       "        vertical-align: top;\n",
       "    }\n",
       "\n",
       "    .dataframe thead th {\n",
       "        text-align: right;\n",
       "    }\n",
       "</style>\n",
       "<table border=\"1\" class=\"dataframe\">\n",
       "  <thead>\n",
       "    <tr style=\"text-align: right;\">\n",
       "      <th></th>\n",
       "      <th>reco_id_curr</th>\n",
       "      <th>target</th>\n",
       "      <th>contract_type_name</th>\n",
       "      <th>gender</th>\n",
       "      <th>own_car_flag</th>\n",
       "      <th>own_realty_flag</th>\n",
       "      <th>children_count</th>\n",
       "      <th>income</th>\n",
       "      <th>loan_body</th>\n",
       "      <th>annuity_payment</th>\n",
       "      <th>...</th>\n",
       "      <th>social_circle_defaults_30_days</th>\n",
       "      <th>observes_60_count_social_circle</th>\n",
       "      <th>social_circle_defaults_60_days</th>\n",
       "      <th>last_phone_number_change</th>\n",
       "      <th>requests_bki_hour</th>\n",
       "      <th>requests_bki_day</th>\n",
       "      <th>requests_bki_week</th>\n",
       "      <th>requests_bki_month</th>\n",
       "      <th>requests_bki_qrt</th>\n",
       "      <th>requests_bki_year</th>\n",
       "    </tr>\n",
       "  </thead>\n",
       "  <tbody>\n",
       "    <tr>\n",
       "      <th>0</th>\n",
       "      <td>384575</td>\n",
       "      <td>0</td>\n",
       "      <td>Cash loans</td>\n",
       "      <td>M</td>\n",
       "      <td>Y</td>\n",
       "      <td>N</td>\n",
       "      <td>2</td>\n",
       "      <td>207000.0</td>\n",
       "      <td>465457.5</td>\n",
       "      <td>52641.0</td>\n",
       "      <td>...</td>\n",
       "      <td>0.0</td>\n",
       "      <td>0.0</td>\n",
       "      <td>0.0</td>\n",
       "      <td>-2.0</td>\n",
       "      <td>0.0</td>\n",
       "      <td>0.0</td>\n",
       "      <td>0.0</td>\n",
       "      <td>1.0</td>\n",
       "      <td>0.0</td>\n",
       "      <td>1.0</td>\n",
       "    </tr>\n",
       "    <tr>\n",
       "      <th>1</th>\n",
       "      <td>214010</td>\n",
       "      <td>0</td>\n",
       "      <td>Cash loans</td>\n",
       "      <td>F</td>\n",
       "      <td>Y</td>\n",
       "      <td>Y</td>\n",
       "      <td>0</td>\n",
       "      <td>247500.0</td>\n",
       "      <td>1281712.5</td>\n",
       "      <td>48946.5</td>\n",
       "      <td>...</td>\n",
       "      <td>0.0</td>\n",
       "      <td>2.0</td>\n",
       "      <td>0.0</td>\n",
       "      <td>-1071.0</td>\n",
       "      <td>0.0</td>\n",
       "      <td>0.0</td>\n",
       "      <td>0.0</td>\n",
       "      <td>1.0</td>\n",
       "      <td>0.0</td>\n",
       "      <td>3.0</td>\n",
       "    </tr>\n",
       "    <tr>\n",
       "      <th>2</th>\n",
       "      <td>142232</td>\n",
       "      <td>0</td>\n",
       "      <td>Cash loans</td>\n",
       "      <td>F</td>\n",
       "      <td>Y</td>\n",
       "      <td>N</td>\n",
       "      <td>0</td>\n",
       "      <td>202500.0</td>\n",
       "      <td>495000.0</td>\n",
       "      <td>39109.5</td>\n",
       "      <td>...</td>\n",
       "      <td>0.0</td>\n",
       "      <td>5.0</td>\n",
       "      <td>0.0</td>\n",
       "      <td>-1435.0</td>\n",
       "      <td>0.0</td>\n",
       "      <td>0.0</td>\n",
       "      <td>0.0</td>\n",
       "      <td>1.0</td>\n",
       "      <td>0.0</td>\n",
       "      <td>3.0</td>\n",
       "    </tr>\n",
       "    <tr>\n",
       "      <th>3</th>\n",
       "      <td>389171</td>\n",
       "      <td>0</td>\n",
       "      <td>Cash loans</td>\n",
       "      <td>F</td>\n",
       "      <td>N</td>\n",
       "      <td>Y</td>\n",
       "      <td>0</td>\n",
       "      <td>247500.0</td>\n",
       "      <td>254700.0</td>\n",
       "      <td>24939.0</td>\n",
       "      <td>...</td>\n",
       "      <td>0.0</td>\n",
       "      <td>0.0</td>\n",
       "      <td>0.0</td>\n",
       "      <td>-2000.0</td>\n",
       "      <td>0.0</td>\n",
       "      <td>0.0</td>\n",
       "      <td>0.0</td>\n",
       "      <td>0.0</td>\n",
       "      <td>0.0</td>\n",
       "      <td>0.0</td>\n",
       "    </tr>\n",
       "    <tr>\n",
       "      <th>4</th>\n",
       "      <td>283617</td>\n",
       "      <td>0</td>\n",
       "      <td>Cash loans</td>\n",
       "      <td>M</td>\n",
       "      <td>N</td>\n",
       "      <td>Y</td>\n",
       "      <td>0</td>\n",
       "      <td>112500.0</td>\n",
       "      <td>308133.0</td>\n",
       "      <td>15862.5</td>\n",
       "      <td>...</td>\n",
       "      <td>0.0</td>\n",
       "      <td>0.0</td>\n",
       "      <td>0.0</td>\n",
       "      <td>-173.0</td>\n",
       "      <td>0.0</td>\n",
       "      <td>0.0</td>\n",
       "      <td>0.0</td>\n",
       "      <td>0.0</td>\n",
       "      <td>0.0</td>\n",
       "      <td>4.0</td>\n",
       "    </tr>\n",
       "  </tbody>\n",
       "</table>\n",
       "<p>5 rows × 102 columns</p>\n",
       "</div>"
      ],
      "text/plain": [
       "   reco_id_curr  target contract_type_name gender own_car_flag  \\\n",
       "0        384575       0         Cash loans      M            Y   \n",
       "1        214010       0         Cash loans      F            Y   \n",
       "2        142232       0         Cash loans      F            Y   \n",
       "3        389171       0         Cash loans      F            N   \n",
       "4        283617       0         Cash loans      M            N   \n",
       "\n",
       "  own_realty_flag  children_count    income  loan_body  annuity_payment  ...  \\\n",
       "0               N               2  207000.0   465457.5          52641.0  ...   \n",
       "1               Y               0  247500.0  1281712.5          48946.5  ...   \n",
       "2               N               0  202500.0   495000.0          39109.5  ...   \n",
       "3               Y               0  247500.0   254700.0          24939.0  ...   \n",
       "4               Y               0  112500.0   308133.0          15862.5  ...   \n",
       "\n",
       "   social_circle_defaults_30_days observes_60_count_social_circle  \\\n",
       "0                             0.0                             0.0   \n",
       "1                             0.0                             2.0   \n",
       "2                             0.0                             5.0   \n",
       "3                             0.0                             0.0   \n",
       "4                             0.0                             0.0   \n",
       "\n",
       "  social_circle_defaults_60_days last_phone_number_change requests_bki_hour  \\\n",
       "0                            0.0                     -2.0               0.0   \n",
       "1                            0.0                  -1071.0               0.0   \n",
       "2                            0.0                  -1435.0               0.0   \n",
       "3                            0.0                  -2000.0               0.0   \n",
       "4                            0.0                   -173.0               0.0   \n",
       "\n",
       "  requests_bki_day  requests_bki_week  requests_bki_month  requests_bki_qrt  \\\n",
       "0              0.0                0.0                 1.0               0.0   \n",
       "1              0.0                0.0                 1.0               0.0   \n",
       "2              0.0                0.0                 1.0               0.0   \n",
       "3              0.0                0.0                 0.0               0.0   \n",
       "4              0.0                0.0                 0.0               0.0   \n",
       "\n",
       "   requests_bki_year  \n",
       "0                1.0  \n",
       "1                3.0  \n",
       "2                3.0  \n",
       "3                0.0  \n",
       "4                4.0  \n",
       "\n",
       "[5 rows x 102 columns]"
      ]
     },
     "execution_count": 6,
     "metadata": {},
     "output_type": "execute_result"
    }
   ],
   "source": [
    "df.head()"
   ]
  },
  {
   "cell_type": "code",
   "execution_count": 7,
   "id": "7af85693-02a4-468c-b236-cf8400d831b7",
   "metadata": {},
   "outputs": [
    {
     "name": "stdout",
     "output_type": "stream",
     "text": [
      "<class 'pandas.core.frame.DataFrame'>\n",
      "RangeIndex: 261384 entries, 0 to 261383\n",
      "Columns: 102 entries, reco_id_curr to requests_bki_year\n",
      "dtypes: float64(65), int64(21), object(16)\n",
      "memory usage: 203.4+ MB\n"
     ]
    }
   ],
   "source": [
    "df.info()"
   ]
  },
  {
   "cell_type": "code",
   "execution_count": 8,
   "id": "12a9be2e-2fa5-4672-9dd2-4e40146def3d",
   "metadata": {},
   "outputs": [
    {
     "data": {
      "text/html": [
       "<div>\n",
       "<style scoped>\n",
       "    .dataframe tbody tr th:only-of-type {\n",
       "        vertical-align: middle;\n",
       "    }\n",
       "\n",
       "    .dataframe tbody tr th {\n",
       "        vertical-align: top;\n",
       "    }\n",
       "\n",
       "    .dataframe thead th {\n",
       "        text-align: right;\n",
       "    }\n",
       "</style>\n",
       "<table border=\"1\" class=\"dataframe\">\n",
       "  <thead>\n",
       "    <tr style=\"text-align: right;\">\n",
       "      <th></th>\n",
       "      <th>reco_id_curr</th>\n",
       "      <th>target</th>\n",
       "      <th>children_count</th>\n",
       "      <th>income</th>\n",
       "      <th>loan_body</th>\n",
       "      <th>annuity_payment</th>\n",
       "      <th>goods_price</th>\n",
       "      <th>population_relative_region</th>\n",
       "      <th>days_birth</th>\n",
       "      <th>days_employed</th>\n",
       "      <th>...</th>\n",
       "      <th>social_circle_defaults_30_days</th>\n",
       "      <th>observes_60_count_social_circle</th>\n",
       "      <th>social_circle_defaults_60_days</th>\n",
       "      <th>last_phone_number_change</th>\n",
       "      <th>requests_bki_hour</th>\n",
       "      <th>requests_bki_day</th>\n",
       "      <th>requests_bki_week</th>\n",
       "      <th>requests_bki_month</th>\n",
       "      <th>requests_bki_qrt</th>\n",
       "      <th>requests_bki_year</th>\n",
       "    </tr>\n",
       "  </thead>\n",
       "  <tbody>\n",
       "    <tr>\n",
       "      <th>count</th>\n",
       "      <td>261384.000000</td>\n",
       "      <td>261384.000000</td>\n",
       "      <td>261384.000000</td>\n",
       "      <td>2.613840e+05</td>\n",
       "      <td>2.613840e+05</td>\n",
       "      <td>261384.000000</td>\n",
       "      <td>2.613840e+05</td>\n",
       "      <td>261384.000000</td>\n",
       "      <td>261384.000000</td>\n",
       "      <td>261384.000000</td>\n",
       "      <td>...</td>\n",
       "      <td>261384.000000</td>\n",
       "      <td>261384.000000</td>\n",
       "      <td>261384.000000</td>\n",
       "      <td>261384.000000</td>\n",
       "      <td>261384.000000</td>\n",
       "      <td>261384.000000</td>\n",
       "      <td>261384.000000</td>\n",
       "      <td>261384.000000</td>\n",
       "      <td>261384.000000</td>\n",
       "      <td>261384.000000</td>\n",
       "    </tr>\n",
       "    <tr>\n",
       "      <th>mean</th>\n",
       "      <td>278231.764186</td>\n",
       "      <td>0.080762</td>\n",
       "      <td>0.417665</td>\n",
       "      <td>1.689238e+05</td>\n",
       "      <td>5.991866e+05</td>\n",
       "      <td>27106.220670</td>\n",
       "      <td>5.384866e+05</td>\n",
       "      <td>0.020884</td>\n",
       "      <td>-16034.247341</td>\n",
       "      <td>63867.624675</td>\n",
       "      <td>...</td>\n",
       "      <td>0.142740</td>\n",
       "      <td>1.398502</td>\n",
       "      <td>0.099597</td>\n",
       "      <td>-963.678791</td>\n",
       "      <td>0.005524</td>\n",
       "      <td>0.006087</td>\n",
       "      <td>0.029799</td>\n",
       "      <td>0.230860</td>\n",
       "      <td>0.229345</td>\n",
       "      <td>1.643884</td>\n",
       "    </tr>\n",
       "    <tr>\n",
       "      <th>std</th>\n",
       "      <td>102770.523515</td>\n",
       "      <td>0.272470</td>\n",
       "      <td>0.723263</td>\n",
       "      <td>2.537912e+05</td>\n",
       "      <td>4.023309e+05</td>\n",
       "      <td>14486.754575</td>\n",
       "      <td>3.691304e+05</td>\n",
       "      <td>0.013855</td>\n",
       "      <td>4365.115766</td>\n",
       "      <td>141317.267570</td>\n",
       "      <td>...</td>\n",
       "      <td>0.442552</td>\n",
       "      <td>2.296642</td>\n",
       "      <td>0.359601</td>\n",
       "      <td>826.880349</td>\n",
       "      <td>0.077945</td>\n",
       "      <td>0.103709</td>\n",
       "      <td>0.191634</td>\n",
       "      <td>0.854993</td>\n",
       "      <td>0.769455</td>\n",
       "      <td>1.856566</td>\n",
       "    </tr>\n",
       "    <tr>\n",
       "      <th>min</th>\n",
       "      <td>100002.000000</td>\n",
       "      <td>0.000000</td>\n",
       "      <td>0.000000</td>\n",
       "      <td>2.565000e+04</td>\n",
       "      <td>4.500000e+04</td>\n",
       "      <td>1615.500000</td>\n",
       "      <td>4.050000e+04</td>\n",
       "      <td>0.000290</td>\n",
       "      <td>-25201.000000</td>\n",
       "      <td>-17912.000000</td>\n",
       "      <td>...</td>\n",
       "      <td>0.000000</td>\n",
       "      <td>0.000000</td>\n",
       "      <td>0.000000</td>\n",
       "      <td>-4292.000000</td>\n",
       "      <td>0.000000</td>\n",
       "      <td>0.000000</td>\n",
       "      <td>0.000000</td>\n",
       "      <td>0.000000</td>\n",
       "      <td>0.000000</td>\n",
       "      <td>0.000000</td>\n",
       "    </tr>\n",
       "    <tr>\n",
       "      <th>25%</th>\n",
       "      <td>189205.750000</td>\n",
       "      <td>0.000000</td>\n",
       "      <td>0.000000</td>\n",
       "      <td>1.125000e+05</td>\n",
       "      <td>2.700000e+05</td>\n",
       "      <td>16527.375000</td>\n",
       "      <td>2.385000e+05</td>\n",
       "      <td>0.010006</td>\n",
       "      <td>-19682.000000</td>\n",
       "      <td>-2758.000000</td>\n",
       "      <td>...</td>\n",
       "      <td>0.000000</td>\n",
       "      <td>0.000000</td>\n",
       "      <td>0.000000</td>\n",
       "      <td>-1570.000000</td>\n",
       "      <td>0.000000</td>\n",
       "      <td>0.000000</td>\n",
       "      <td>0.000000</td>\n",
       "      <td>0.000000</td>\n",
       "      <td>0.000000</td>\n",
       "      <td>0.000000</td>\n",
       "    </tr>\n",
       "    <tr>\n",
       "      <th>50%</th>\n",
       "      <td>278323.500000</td>\n",
       "      <td>0.000000</td>\n",
       "      <td>0.000000</td>\n",
       "      <td>1.485000e+05</td>\n",
       "      <td>5.135310e+05</td>\n",
       "      <td>24903.000000</td>\n",
       "      <td>4.500000e+05</td>\n",
       "      <td>0.018850</td>\n",
       "      <td>-15744.000000</td>\n",
       "      <td>-1213.000000</td>\n",
       "      <td>...</td>\n",
       "      <td>0.000000</td>\n",
       "      <td>0.000000</td>\n",
       "      <td>0.000000</td>\n",
       "      <td>-757.000000</td>\n",
       "      <td>0.000000</td>\n",
       "      <td>0.000000</td>\n",
       "      <td>0.000000</td>\n",
       "      <td>0.000000</td>\n",
       "      <td>0.000000</td>\n",
       "      <td>1.000000</td>\n",
       "    </tr>\n",
       "    <tr>\n",
       "      <th>75%</th>\n",
       "      <td>367161.250000</td>\n",
       "      <td>0.000000</td>\n",
       "      <td>1.000000</td>\n",
       "      <td>2.025000e+05</td>\n",
       "      <td>8.086500e+05</td>\n",
       "      <td>34596.000000</td>\n",
       "      <td>6.795000e+05</td>\n",
       "      <td>0.028663</td>\n",
       "      <td>-12407.000000</td>\n",
       "      <td>-289.000000</td>\n",
       "      <td>...</td>\n",
       "      <td>0.000000</td>\n",
       "      <td>2.000000</td>\n",
       "      <td>0.000000</td>\n",
       "      <td>-275.000000</td>\n",
       "      <td>0.000000</td>\n",
       "      <td>0.000000</td>\n",
       "      <td>0.000000</td>\n",
       "      <td>0.000000</td>\n",
       "      <td>0.000000</td>\n",
       "      <td>3.000000</td>\n",
       "    </tr>\n",
       "    <tr>\n",
       "      <th>max</th>\n",
       "      <td>456255.000000</td>\n",
       "      <td>1.000000</td>\n",
       "      <td>19.000000</td>\n",
       "      <td>1.170000e+08</td>\n",
       "      <td>4.050000e+06</td>\n",
       "      <td>258025.500000</td>\n",
       "      <td>4.050000e+06</td>\n",
       "      <td>0.072508</td>\n",
       "      <td>-7489.000000</td>\n",
       "      <td>365243.000000</td>\n",
       "      <td>...</td>\n",
       "      <td>8.000000</td>\n",
       "      <td>47.000000</td>\n",
       "      <td>7.000000</td>\n",
       "      <td>0.000000</td>\n",
       "      <td>4.000000</td>\n",
       "      <td>9.000000</td>\n",
       "      <td>8.000000</td>\n",
       "      <td>27.000000</td>\n",
       "      <td>261.000000</td>\n",
       "      <td>25.000000</td>\n",
       "    </tr>\n",
       "  </tbody>\n",
       "</table>\n",
       "<p>8 rows × 86 columns</p>\n",
       "</div>"
      ],
      "text/plain": [
       "        reco_id_curr         target  children_count        income  \\\n",
       "count  261384.000000  261384.000000   261384.000000  2.613840e+05   \n",
       "mean   278231.764186       0.080762        0.417665  1.689238e+05   \n",
       "std    102770.523515       0.272470        0.723263  2.537912e+05   \n",
       "min    100002.000000       0.000000        0.000000  2.565000e+04   \n",
       "25%    189205.750000       0.000000        0.000000  1.125000e+05   \n",
       "50%    278323.500000       0.000000        0.000000  1.485000e+05   \n",
       "75%    367161.250000       0.000000        1.000000  2.025000e+05   \n",
       "max    456255.000000       1.000000       19.000000  1.170000e+08   \n",
       "\n",
       "          loan_body  annuity_payment   goods_price  \\\n",
       "count  2.613840e+05    261384.000000  2.613840e+05   \n",
       "mean   5.991866e+05     27106.220670  5.384866e+05   \n",
       "std    4.023309e+05     14486.754575  3.691304e+05   \n",
       "min    4.500000e+04      1615.500000  4.050000e+04   \n",
       "25%    2.700000e+05     16527.375000  2.385000e+05   \n",
       "50%    5.135310e+05     24903.000000  4.500000e+05   \n",
       "75%    8.086500e+05     34596.000000  6.795000e+05   \n",
       "max    4.050000e+06    258025.500000  4.050000e+06   \n",
       "\n",
       "       population_relative_region     days_birth  days_employed  ...  \\\n",
       "count               261384.000000  261384.000000  261384.000000  ...   \n",
       "mean                     0.020884  -16034.247341   63867.624675  ...   \n",
       "std                      0.013855    4365.115766  141317.267570  ...   \n",
       "min                      0.000290  -25201.000000  -17912.000000  ...   \n",
       "25%                      0.010006  -19682.000000   -2758.000000  ...   \n",
       "50%                      0.018850  -15744.000000   -1213.000000  ...   \n",
       "75%                      0.028663  -12407.000000    -289.000000  ...   \n",
       "max                      0.072508   -7489.000000  365243.000000  ...   \n",
       "\n",
       "       social_circle_defaults_30_days  observes_60_count_social_circle  \\\n",
       "count                   261384.000000                    261384.000000   \n",
       "mean                         0.142740                         1.398502   \n",
       "std                          0.442552                         2.296642   \n",
       "min                          0.000000                         0.000000   \n",
       "25%                          0.000000                         0.000000   \n",
       "50%                          0.000000                         0.000000   \n",
       "75%                          0.000000                         2.000000   \n",
       "max                          8.000000                        47.000000   \n",
       "\n",
       "       social_circle_defaults_60_days  last_phone_number_change  \\\n",
       "count                   261384.000000             261384.000000   \n",
       "mean                         0.099597               -963.678791   \n",
       "std                          0.359601                826.880349   \n",
       "min                          0.000000              -4292.000000   \n",
       "25%                          0.000000              -1570.000000   \n",
       "50%                          0.000000               -757.000000   \n",
       "75%                          0.000000               -275.000000   \n",
       "max                          7.000000                  0.000000   \n",
       "\n",
       "       requests_bki_hour  requests_bki_day  requests_bki_week  \\\n",
       "count      261384.000000     261384.000000      261384.000000   \n",
       "mean            0.005524          0.006087           0.029799   \n",
       "std             0.077945          0.103709           0.191634   \n",
       "min             0.000000          0.000000           0.000000   \n",
       "25%             0.000000          0.000000           0.000000   \n",
       "50%             0.000000          0.000000           0.000000   \n",
       "75%             0.000000          0.000000           0.000000   \n",
       "max             4.000000          9.000000           8.000000   \n",
       "\n",
       "       requests_bki_month  requests_bki_qrt  requests_bki_year  \n",
       "count       261384.000000     261384.000000      261384.000000  \n",
       "mean             0.230860          0.229345           1.643884  \n",
       "std              0.854993          0.769455           1.856566  \n",
       "min              0.000000          0.000000           0.000000  \n",
       "25%              0.000000          0.000000           0.000000  \n",
       "50%              0.000000          0.000000           1.000000  \n",
       "75%              0.000000          0.000000           3.000000  \n",
       "max             27.000000        261.000000          25.000000  \n",
       "\n",
       "[8 rows x 86 columns]"
      ]
     },
     "execution_count": 8,
     "metadata": {},
     "output_type": "execute_result"
    }
   ],
   "source": [
    "df.describe()"
   ]
  },
  {
   "cell_type": "code",
   "execution_count": 9,
   "id": "e4b60234-4475-4af7-a081-957b9220a4a6",
   "metadata": {},
   "outputs": [
    {
     "data": {
      "text/plain": [
       "0"
      ]
     },
     "execution_count": 9,
     "metadata": {},
     "output_type": "execute_result"
    }
   ],
   "source": [
    "df['type_of_occupation'].isna().sum()"
   ]
  },
  {
   "cell_type": "code",
   "execution_count": 11,
   "id": "1d69091f-c0d6-47cf-b801-ac727e334988",
   "metadata": {},
   "outputs": [
    {
     "data": {
      "text/plain": [
       "0         36.430137\n",
       "1         40.487671\n",
       "2         49.060274\n",
       "3         53.769863\n",
       "4         55.690411\n",
       "            ...    \n",
       "261379    43.843836\n",
       "261380    30.569863\n",
       "261381    56.000000\n",
       "261382    30.205479\n",
       "261383    42.901370\n",
       "Name: days_birth, Length: 261384, dtype: float64"
      ]
     },
     "execution_count": 11,
     "metadata": {},
     "output_type": "execute_result"
    }
   ],
   "source": [
    "\n",
    "df['days_birth'] = df['days_birth'] /  - 365.\n",
    "df['days_birth']"
   ]
  },
  {
   "cell_type": "code",
   "execution_count": 12,
   "id": "9fe87265-647d-4e3c-8a86-68910d52a966",
   "metadata": {},
   "outputs": [
    {
     "data": {
      "text/plain": [
       "Text(1.6026319444444415, 0.5, 'Density')"
      ]
     },
     "execution_count": 12,
     "metadata": {},
     "output_type": "execute_result"
    },
    {
     "data": {
      "image/png": "[encoded data removed]",
      "text/plain": [
       "<Figure size 605.75x500 with 1 Axes>"
      ]
     },
     "metadata": {},
     "output_type": "display_data"
    }
   ],
   "source": [
    "sns.displot({'target 0': df[df['target'] == 0]['days_birth'], \n",
    "            'target 1': df[df['target'] == 1]['days_birth']},\n",
    "            kind = 'kde',\n",
    "            common_norm=False)\n",
    "plt.title('Возраст')\n",
    "plt.xlabel('Возраст, лет')\n",
    "plt.ylabel('Density')"
   ]
  },
  {
   "cell_type": "code",
   "execution_count": 13,
   "id": "b49b3139-0f39-4c6c-b86d-f3b86c8cec88",
   "metadata": {},
   "outputs": [
    {
     "data": {
      "text/plain": [
       "target\n",
       "0    43.482192\n",
       "1    39.113699\n",
       "Name: days_birth, dtype: float64"
      ]
     },
     "execution_count": 13,
     "metadata": {},
     "output_type": "execute_result"
    }
   ],
   "source": [
    "df.groupby('target')['days_birth'].median()"
   ]
  },
  {
   "cell_type": "code",
   "execution_count": 14,
   "id": "b5f5b43a-51c0-4ce0-9a21-4bcebd394fca",
   "metadata": {},
   "outputs": [
    {
     "data": {
      "text/plain": [
       "target\n",
       "0    44.205105\n",
       "1    40.791882\n",
       "Name: days_birth, dtype: float64"
      ]
     },
     "execution_count": 14,
     "metadata": {},
     "output_type": "execute_result"
    }
   ],
   "source": [
    "df.groupby('target')['days_birth'].mean()"
   ]
  },
  {
   "cell_type": "code",
   "execution_count": 15,
   "id": "cb180a3a-531d-4de9-912d-09287c3c70ea",
   "metadata": {},
   "outputs": [
    {
     "data": {
      "text/plain": [
       "array(['Secondary / secondary special', 'Higher education',\n",
       "       'Lower secondary', 'Incomplete higher', 'Academic degree'],\n",
       "      dtype=object)"
      ]
     },
     "execution_count": 15,
     "metadata": {},
     "output_type": "execute_result"
    }
   ],
   "source": [
    "df['education_type_name'].unique()"
   ]
  },
  {
   "cell_type": "code",
   "execution_count": 16,
   "id": "49c9c4a4-88b0-4d57-be54-16ace189ad85",
   "metadata": {},
   "outputs": [
    {
     "data": {
      "text/plain": [
       "education_type_name\n",
       "Academic degree                  43.410959\n",
       "Higher education                 39.657534\n",
       "Incomplete higher                31.571233\n",
       "Lower secondary                  49.698630\n",
       "Secondary / secondary special    44.775342\n",
       "Name: days_birth, dtype: float64"
      ]
     },
     "execution_count": 16,
     "metadata": {},
     "output_type": "execute_result"
    }
   ],
   "source": [
    "df.groupby('education_type_name')['days_birth'].median()"
   ]
  },
  {
   "cell_type": "code",
   "execution_count": 17,
   "id": "b848649c-9e53-4679-9d03-e29fc4ded759",
   "metadata": {},
   "outputs": [
    {
     "data": {
      "text/plain": [
       "<seaborn.axisgrid.FacetGrid at 0x21815c61e50>"
      ]
     },
     "execution_count": 17,
     "metadata": {},
     "output_type": "execute_result"
    },
    {
     "data": {
      "image/png": "[encoded data removed]",
      "text/plain": [
       "<Figure size 676.5x500 with 1 Axes>"
      ]
     },
     "metadata": {},
     "output_type": "display_data"
    }
   ],
   "source": [
    "sns.displot(\n",
    "    {\n",
    "        'Lower Secondary': df[df['education_type_name'] == 'Lower secondary']['days_birth'],\n",
    "        'Secondary': df[df['education_type_name'] == 'Secondary / secondary special']['days_birth'],\n",
    "        'Incomplete higher': df[df['education_type_name'] == 'Incomplete higher']['days_birth'],\n",
    "        'Higher education': df[df['education_type_name'] == 'Higher education']['days_birth'],\n",
    "        'Academic degree': df[df['education_type_name'] == 'Academic degree']['days_birth']\n",
    "    },\n",
    "    kind='kde',\n",
    "    common_norm=False\n",
    ")"
   ]
  },
  {
   "cell_type": "code",
   "execution_count": 34,
   "id": "b902d617-d0cb-4468-940d-822a1f11aab3",
   "metadata": {},
   "outputs": [],
   "source": [
    "#на графике видны аномалии, связанные с уровнем образования"
   ]
  },
  {
   "cell_type": "code",
   "execution_count": 18,
   "id": "321752c2-c3e1-4369-8e65-30570ca4ac85",
   "metadata": {},
   "outputs": [
    {
     "data": {
      "text/plain": [
       "Text(28.21070486111111, 0.5, 'Density')"
      ]
     },
     "execution_count": 18,
     "metadata": {},
     "output_type": "execute_result"
    },
    {
     "data": {
      "text/plain": [
       "<Figure size 1200x2000 with 0 Axes>"
      ]
     },
     "metadata": {},
     "output_type": "display_data"
    },
    {
     "data": {
      "image/png": "[encoded data removed]",
      "text/plain": [
       "<Figure size 558.875x500 with 1 Axes>"
      ]
     },
     "metadata": {},
     "output_type": "display_data"
    }
   ],
   "source": [
    "plt.figure(figsize=(12, 20))\n",
    "sns.displot(df, x='income', hue='target', kind='kde', common_norm=False)\n",
    "plt.title('Доход')\n",
    "plt.xlabel('Доход')\n",
    "plt.ylabel('Density')"
   ]
  },
  {
   "cell_type": "code",
   "execution_count": 19,
   "id": "c7ee3721-88bd-404d-9145-6cbda8c3b556",
   "metadata": {},
   "outputs": [
    {
     "data": {
      "text/plain": [
       "target\n",
       "0    169144.727621\n",
       "1    166409.128351\n",
       "Name: income, dtype: float64"
      ]
     },
     "execution_count": 19,
     "metadata": {},
     "output_type": "execute_result"
    }
   ],
   "source": [
    "df.groupby('target')['income'].mean()"
   ]
  },
  {
   "cell_type": "code",
   "execution_count": 20,
   "id": "c138304e-1e9e-408a-bf52-60d6ece5425f",
   "metadata": {},
   "outputs": [
    {
     "data": {
      "text/plain": [
       "Text(39.231513888888884, 0.5, 'Density')"
      ]
     },
     "execution_count": 20,
     "metadata": {},
     "output_type": "execute_result"
    },
    {
     "data": {
      "image/png": "[encoded data removed]",
      "text/plain": [
       "<Figure size 676.5x500 with 1 Axes>"
      ]
     },
     "metadata": {},
     "output_type": "display_data"
    }
   ],
   "source": [
    "sns.displot(\n",
    "    {\n",
    "        'Lower Secondary': df[df['education_type_name'] == 'Lower secondary']['income'],\n",
    "        'Secondary': df[df['education_type_name'] == 'Secondary / secondary special']['income'],\n",
    "        'Incomplete higher': df[df['education_type_name'] == 'Incomplete higher']['income'],\n",
    "        'Higher education': df[df['education_type_name'] == 'Higher education']['income'],\n",
    "        'Academic degree': df[df['education_type_name'] == 'Academic degree']['income']\n",
    "    },\n",
    "    kind=\"kde\",\n",
    "    common_norm=False\n",
    ")\n",
    "plt.title('Доход-образование')\n",
    "plt.xlabel('Доход')\n",
    "plt.ylabel('Density')"
   ]
  },
  {
   "cell_type": "code",
   "execution_count": 21,
   "id": "496d82bb-4c3e-4229-a1b2-51f972f25b76",
   "metadata": {},
   "outputs": [],
   "source": [
    "df_label = pd.get_dummies(df, drop_first=True)"
   ]
  },
  {
   "cell_type": "code",
   "execution_count": 22,
   "id": "ff0c2236-64c1-4066-aa74-d50774ef6fa5",
   "metadata": {},
   "outputs": [
    {
     "data": {
      "text/html": [
       "<div>\n",
       "<style scoped>\n",
       "    .dataframe tbody tr th:only-of-type {\n",
       "        vertical-align: middle;\n",
       "    }\n",
       "\n",
       "    .dataframe tbody tr th {\n",
       "        vertical-align: top;\n",
       "    }\n",
       "\n",
       "    .dataframe thead th {\n",
       "        text-align: right;\n",
       "    }\n",
       "</style>\n",
       "<table border=\"1\" class=\"dataframe\">\n",
       "  <thead>\n",
       "    <tr style=\"text-align: right;\">\n",
       "      <th></th>\n",
       "      <th>reco_id_curr</th>\n",
       "      <th>target</th>\n",
       "      <th>children_count</th>\n",
       "      <th>income</th>\n",
       "      <th>loan_body</th>\n",
       "      <th>annuity_payment</th>\n",
       "      <th>goods_price</th>\n",
       "      <th>population_relative_region</th>\n",
       "      <th>days_birth</th>\n",
       "      <th>days_employed</th>\n",
       "      <th>...</th>\n",
       "      <th>fondkapremon_mode_reg oper spec account</th>\n",
       "      <th>mode_house_type_specific housing</th>\n",
       "      <th>mode_house_type_terraced house</th>\n",
       "      <th>mode_walls_material_Mixed</th>\n",
       "      <th>mode_walls_material_Monolithic</th>\n",
       "      <th>mode_walls_material_Others</th>\n",
       "      <th>mode_walls_material_Panel</th>\n",
       "      <th>mode_walls_material_Stone, brick</th>\n",
       "      <th>mode_walls_material_Wooden</th>\n",
       "      <th>emergency_state_mode_Yes</th>\n",
       "    </tr>\n",
       "  </thead>\n",
       "  <tbody>\n",
       "    <tr>\n",
       "      <th>0</th>\n",
       "      <td>384575</td>\n",
       "      <td>0</td>\n",
       "      <td>2</td>\n",
       "      <td>207000.0</td>\n",
       "      <td>465457.5</td>\n",
       "      <td>52641.0</td>\n",
       "      <td>418500.0</td>\n",
       "      <td>0.009630</td>\n",
       "      <td>36.430137</td>\n",
       "      <td>-762</td>\n",
       "      <td>...</td>\n",
       "      <td>False</td>\n",
       "      <td>False</td>\n",
       "      <td>False</td>\n",
       "      <td>False</td>\n",
       "      <td>False</td>\n",
       "      <td>False</td>\n",
       "      <td>True</td>\n",
       "      <td>False</td>\n",
       "      <td>False</td>\n",
       "      <td>False</td>\n",
       "    </tr>\n",
       "    <tr>\n",
       "      <th>1</th>\n",
       "      <td>214010</td>\n",
       "      <td>0</td>\n",
       "      <td>0</td>\n",
       "      <td>247500.0</td>\n",
       "      <td>1281712.5</td>\n",
       "      <td>48946.5</td>\n",
       "      <td>1179000.0</td>\n",
       "      <td>0.006852</td>\n",
       "      <td>40.487671</td>\n",
       "      <td>-1141</td>\n",
       "      <td>...</td>\n",
       "      <td>False</td>\n",
       "      <td>False</td>\n",
       "      <td>False</td>\n",
       "      <td>False</td>\n",
       "      <td>True</td>\n",
       "      <td>False</td>\n",
       "      <td>False</td>\n",
       "      <td>False</td>\n",
       "      <td>False</td>\n",
       "      <td>False</td>\n",
       "    </tr>\n",
       "    <tr>\n",
       "      <th>2</th>\n",
       "      <td>142232</td>\n",
       "      <td>0</td>\n",
       "      <td>0</td>\n",
       "      <td>202500.0</td>\n",
       "      <td>495000.0</td>\n",
       "      <td>39109.5</td>\n",
       "      <td>495000.0</td>\n",
       "      <td>0.035792</td>\n",
       "      <td>49.060274</td>\n",
       "      <td>-639</td>\n",
       "      <td>...</td>\n",
       "      <td>False</td>\n",
       "      <td>False</td>\n",
       "      <td>False</td>\n",
       "      <td>False</td>\n",
       "      <td>False</td>\n",
       "      <td>False</td>\n",
       "      <td>True</td>\n",
       "      <td>False</td>\n",
       "      <td>False</td>\n",
       "      <td>False</td>\n",
       "    </tr>\n",
       "    <tr>\n",
       "      <th>3</th>\n",
       "      <td>389171</td>\n",
       "      <td>0</td>\n",
       "      <td>0</td>\n",
       "      <td>247500.0</td>\n",
       "      <td>254700.0</td>\n",
       "      <td>24939.0</td>\n",
       "      <td>225000.0</td>\n",
       "      <td>0.046220</td>\n",
       "      <td>53.769863</td>\n",
       "      <td>-6982</td>\n",
       "      <td>...</td>\n",
       "      <td>False</td>\n",
       "      <td>False</td>\n",
       "      <td>False</td>\n",
       "      <td>False</td>\n",
       "      <td>False</td>\n",
       "      <td>False</td>\n",
       "      <td>True</td>\n",
       "      <td>False</td>\n",
       "      <td>False</td>\n",
       "      <td>False</td>\n",
       "    </tr>\n",
       "    <tr>\n",
       "      <th>4</th>\n",
       "      <td>283617</td>\n",
       "      <td>0</td>\n",
       "      <td>0</td>\n",
       "      <td>112500.0</td>\n",
       "      <td>308133.0</td>\n",
       "      <td>15862.5</td>\n",
       "      <td>234000.0</td>\n",
       "      <td>0.018850</td>\n",
       "      <td>55.690411</td>\n",
       "      <td>-1105</td>\n",
       "      <td>...</td>\n",
       "      <td>False</td>\n",
       "      <td>False</td>\n",
       "      <td>False</td>\n",
       "      <td>False</td>\n",
       "      <td>False</td>\n",
       "      <td>False</td>\n",
       "      <td>False</td>\n",
       "      <td>True</td>\n",
       "      <td>False</td>\n",
       "      <td>False</td>\n",
       "    </tr>\n",
       "  </tbody>\n",
       "</table>\n",
       "<p>5 rows × 210 columns</p>\n",
       "</div>"
      ],
      "text/plain": [
       "   reco_id_curr  target  children_count    income  loan_body  annuity_payment  \\\n",
       "0        384575       0               2  207000.0   465457.5          52641.0   \n",
       "1        214010       0               0  247500.0  1281712.5          48946.5   \n",
       "2        142232       0               0  202500.0   495000.0          39109.5   \n",
       "3        389171       0               0  247500.0   254700.0          24939.0   \n",
       "4        283617       0               0  112500.0   308133.0          15862.5   \n",
       "\n",
       "   goods_price  population_relative_region  days_birth  days_employed  ...  \\\n",
       "0     418500.0                    0.009630   36.430137           -762  ...   \n",
       "1    1179000.0                    0.006852   40.487671          -1141  ...   \n",
       "2     495000.0                    0.035792   49.060274           -639  ...   \n",
       "3     225000.0                    0.046220   53.769863          -6982  ...   \n",
       "4     234000.0                    0.018850   55.690411          -1105  ...   \n",
       "\n",
       "   fondkapremon_mode_reg oper spec account  mode_house_type_specific housing  \\\n",
       "0                                    False                             False   \n",
       "1                                    False                             False   \n",
       "2                                    False                             False   \n",
       "3                                    False                             False   \n",
       "4                                    False                             False   \n",
       "\n",
       "   mode_house_type_terraced house  mode_walls_material_Mixed  \\\n",
       "0                           False                      False   \n",
       "1                           False                      False   \n",
       "2                           False                      False   \n",
       "3                           False                      False   \n",
       "4                           False                      False   \n",
       "\n",
       "   mode_walls_material_Monolithic  mode_walls_material_Others  \\\n",
       "0                           False                       False   \n",
       "1                            True                       False   \n",
       "2                           False                       False   \n",
       "3                           False                       False   \n",
       "4                           False                       False   \n",
       "\n",
       "   mode_walls_material_Panel  mode_walls_material_Stone, brick  \\\n",
       "0                       True                             False   \n",
       "1                      False                             False   \n",
       "2                       True                             False   \n",
       "3                       True                             False   \n",
       "4                      False                              True   \n",
       "\n",
       "   mode_walls_material_Wooden  emergency_state_mode_Yes  \n",
       "0                       False                     False  \n",
       "1                       False                     False  \n",
       "2                       False                     False  \n",
       "3                       False                     False  \n",
       "4                       False                     False  \n",
       "\n",
       "[5 rows x 210 columns]"
      ]
     },
     "execution_count": 22,
     "metadata": {},
     "output_type": "execute_result"
    }
   ],
   "source": [
    "df_label.head()"
   ]
  },
  {
   "cell_type": "code",
   "execution_count": 23,
   "id": "0dcd9b25-55f2-4545-9191-04bc57248732",
   "metadata": {},
   "outputs": [],
   "source": [
    "X = df_label.drop('target', axis=1)\n",
    "y = df_label['target']"
   ]
  },
  {
   "cell_type": "code",
   "execution_count": 24,
   "id": "c235ef4e-bbba-40b9-8387-4269bbce1dbf",
   "metadata": {},
   "outputs": [],
   "source": [
    "X_train, X_test, y_train, y_test = train_test_split(X, y, test_size=0.25, stratify=y, random_state=RAND)"
   ]
  },
  {
   "cell_type": "code",
   "execution_count": 25,
   "id": "ea8aa425-62bf-42db-8a42-e981f44c5eb9",
   "metadata": {},
   "outputs": [
    {
     "data": {
      "text/html": [
       "<style>#sk-container-id-1 {color: black;background-color: white;}#sk-container-id-1 pre{padding: 0;}#sk-container-id-1 div.sk-toggleable {background-color: white;}#sk-container-id-1 label.sk-toggleable__label {cursor: pointer;display: block;width: 100%;margin-bottom: 0;padding: 0.3em;box-sizing: border-box;text-align: center;}#sk-container-id-1 label.sk-toggleable__label-arrow:before {content: \"▸\";float: left;margin-right: 0.25em;color: #696969;}#sk-container-id-1 label.sk-toggleable__label-arrow:hover:before {color: black;}#sk-container-id-1 div.sk-estimator:hover label.sk-toggleable__label-arrow:before {color: black;}#sk-container-id-1 div.sk-toggleable__content {max-height: 0;max-width: 0;overflow: hidden;text-align: left;background-color: #f0f8ff;}#sk-container-id-1 div.sk-toggleable__content pre {margin: 0.2em;color: black;border-radius: 0.25em;background-color: #f0f8ff;}#sk-container-id-1 input.sk-toggleable__control:checked~div.sk-toggleable__content {max-height: 200px;max-width: 100%;overflow: auto;}#sk-container-id-1 input.sk-toggleable__control:checked~label.sk-toggleable__label-arrow:before {content: \"▾\";}#sk-container-id-1 div.sk-estimator input.sk-toggleable__control:checked~label.sk-toggleable__label {background-color: #d4ebff;}#sk-container-id-1 div.sk-label input.sk-toggleable__control:checked~label.sk-toggleable__label {background-color: #d4ebff;}#sk-container-id-1 input.sk-hidden--visually {border: 0;clip: rect(1px 1px 1px 1px);clip: rect(1px, 1px, 1px, 1px);height: 1px;margin: -1px;overflow: hidden;padding: 0;position: absolute;width: 1px;}#sk-container-id-1 div.sk-estimator {font-family: monospace;background-color: #f0f8ff;border: 1px dotted black;border-radius: 0.25em;box-sizing: border-box;margin-bottom: 0.5em;}#sk-container-id-1 div.sk-estimator:hover {background-color: #d4ebff;}#sk-container-id-1 div.sk-parallel-item::after {content: \"\";width: 100%;border-bottom: 1px solid gray;flex-grow: 1;}#sk-container-id-1 div.sk-label:hover label.sk-toggleable__label {background-color: #d4ebff;}#sk-container-id-1 div.sk-serial::before {content: \"\";position: absolute;border-left: 1px solid gray;box-sizing: border-box;top: 0;bottom: 0;left: 50%;z-index: 0;}#sk-container-id-1 div.sk-serial {display: flex;flex-direction: column;align-items: center;background-color: white;padding-right: 0.2em;padding-left: 0.2em;position: relative;}#sk-container-id-1 div.sk-item {position: relative;z-index: 1;}#sk-container-id-1 div.sk-parallel {display: flex;align-items: stretch;justify-content: center;background-color: white;position: relative;}#sk-container-id-1 div.sk-item::before, #sk-container-id-1 div.sk-parallel-item::before {content: \"\";position: absolute;border-left: 1px solid gray;box-sizing: border-box;top: 0;bottom: 0;left: 50%;z-index: -1;}#sk-container-id-1 div.sk-parallel-item {display: flex;flex-direction: column;z-index: 1;position: relative;background-color: white;}#sk-container-id-1 div.sk-parallel-item:first-child::after {align-self: flex-end;width: 50%;}#sk-container-id-1 div.sk-parallel-item:last-child::after {align-self: flex-start;width: 50%;}#sk-container-id-1 div.sk-parallel-item:only-child::after {width: 0;}#sk-container-id-1 div.sk-dashed-wrapped {border: 1px dashed gray;margin: 0 0.4em 0.5em 0.4em;box-sizing: border-box;padding-bottom: 0.4em;background-color: white;}#sk-container-id-1 div.sk-label label {font-family: monospace;font-weight: bold;display: inline-block;line-height: 1.2em;}#sk-container-id-1 div.sk-label-container {text-align: center;}#sk-container-id-1 div.sk-container {/* jupyter's `normalize.less` sets `[hidden] { display: none; }` but bootstrap.min.css set `[hidden] { display: none !important; }` so we also need the `!important` here to be able to override the default hidden behavior on the sphinx rendered scikit-learn.org. See: https://github.com/scikit-learn/scikit-learn/issues/21755 */display: inline-block !important;position: relative;}#sk-container-id-1 div.sk-text-repr-fallback {display: none;}</style><div id=\"sk-container-id-1\" class=\"sk-top-container\"><div class=\"sk-text-repr-fallback\"><pre>LogisticRegression(class_weight=&#x27;balanced&#x27;)</pre><b>In a Jupyter environment, please rerun this cell to show the HTML representation or trust the notebook. <br />On GitHub, the HTML representation is unable to render, please try loading this page with nbviewer.org.</b></div><div class=\"sk-container\" hidden><div class=\"sk-item\"><div class=\"sk-estimator sk-toggleable\"><input class=\"sk-toggleable__control sk-hidden--visually\" id=\"sk-estimator-id-1\" type=\"checkbox\" checked><label for=\"sk-estimator-id-1\" class=\"sk-toggleable__label sk-toggleable__label-arrow\">LogisticRegression</label><div class=\"sk-toggleable__content\"><pre>LogisticRegression(class_weight=&#x27;balanced&#x27;)</pre></div></div></div></div></div>"
      ],
      "text/plain": [
       "LogisticRegression(class_weight='balanced')"
      ]
     },
     "execution_count": 25,
     "metadata": {},
     "output_type": "execute_result"
    }
   ],
   "source": [
    "lr = LogisticRegression(class_weight='balanced')\n",
    "lr.fit(X_train, y_train)"
   ]
  },
  {
   "cell_type": "code",
   "execution_count": 26,
   "id": "d34d5055-a955-4f52-9129-dc1eabc0a3ee",
   "metadata": {},
   "outputs": [],
   "source": [
    "y_pred = lr.predict(X_test)\n",
    "y_score = lr.predict_proba(X_test)[:, 1]"
   ]
  },
  {
   "cell_type": "code",
   "execution_count": 27,
   "id": "f69c6758-60d3-486a-9266-3ccc83881f68",
   "metadata": {},
   "outputs": [
    {
     "data": {
      "text/plain": [
       "array([1, 1, 0, ..., 1, 0, 1], dtype=int64)"
      ]
     },
     "execution_count": 27,
     "metadata": {},
     "output_type": "execute_result"
    }
   ],
   "source": [
    "y_pred"
   ]
  },
  {
   "cell_type": "code",
   "execution_count": 28,
   "id": "f3f5f490-d279-4145-a3f9-903951236bcb",
   "metadata": {},
   "outputs": [
    {
     "name": "stdout",
     "output_type": "stream",
     "text": [
      "recall 0.56176582038651\n",
      "precission 0.10817219992703393\n",
      "roc-auc 0.6056647956365633\n"
     ]
    }
   ],
   "source": [
    "print('recall', recall_score(y_test, y_pred))\n",
    "print('precission', precision_score(y_test, y_pred))\n",
    "print('roc-auc', roc_auc_score(y_test, y_score))"
   ]
  },
  {
   "cell_type": "code",
   "execution_count": 32,
   "id": "dadde192-8835-4492-bfe5-05a819aa5a95",
   "metadata": {},
   "outputs": [
    {
     "data": {
      "text/html": [
       "<div>\n",
       "<style scoped>\n",
       "    .dataframe tbody tr th:only-of-type {\n",
       "        vertical-align: middle;\n",
       "    }\n",
       "\n",
       "    .dataframe tbody tr th {\n",
       "        vertical-align: top;\n",
       "    }\n",
       "\n",
       "    .dataframe thead th {\n",
       "        text-align: right;\n",
       "    }\n",
       "</style>\n",
       "<table border=\"1\" class=\"dataframe\">\n",
       "  <thead>\n",
       "    <tr style=\"text-align: right;\">\n",
       "      <th></th>\n",
       "      <th>metrics</th>\n",
       "    </tr>\n",
       "  </thead>\n",
       "  <tbody>\n",
       "    <tr>\n",
       "      <th>recall</th>\n",
       "      <td>0.561766</td>\n",
       "    </tr>\n",
       "    <tr>\n",
       "      <th>precission</th>\n",
       "      <td>0.108172</td>\n",
       "    </tr>\n",
       "    <tr>\n",
       "      <th>roc-auc</th>\n",
       "      <td>0.605665</td>\n",
       "    </tr>\n",
       "  </tbody>\n",
       "</table>\n",
       "</div>"
      ],
      "text/plain": [
       "             metrics\n",
       "recall      0.561766\n",
       "precission  0.108172\n",
       "roc-auc     0.605665"
      ]
     },
     "execution_count": 32,
     "metadata": {},
     "output_type": "execute_result"
    }
   ],
   "source": [
    "metrics1 = pd.DataFrame(\n",
    "    index=['recall', 'precission', 'roc-auc']\n",
    ")\n",
    "metrics1['metrics'] = [recall_score(y_test, y_pred),\n",
    "                      precision_score(y_test, y_pred),\n",
    "                       roc_auc_score(y_test, y_score)]\n",
    "                      \n",
    "metrics1"
   ]
  },
  {
   "cell_type": "code",
   "execution_count": null,
   "id": "6ee7a61f-9b71-4474-bdda-265f760ae803",
   "metadata": {},
   "outputs": [],
   "source": [
    "# метрики показали относительно низкие значения, что может быть связано с аномальными значениями\n",
    "# в датасете"
   ]
  },
  {
   "cell_type": "code",
   "execution_count": null,
   "id": "31c454b5-89c9-47ec-8a95-12a86a84e3dd",
   "metadata": {},
   "outputs": [],
   "source": []
  }
 ],
 "metadata": {
  "kernelspec": {
   "display_name": "Python 3 (ipykernel)",
   "language": "python",
   "name": "python3"
  },
  "language_info": {
   "codemirror_mode": {
    "name": "ipython",
    "version": 3
   },
   "file_extension": ".py",
   "mimetype": "text/x-python",
   "name": "python",
   "nbconvert_exporter": "python",
   "pygments_lexer": "ipython3",
   "version": "3.11.7"
  }
 },
 "nbformat": 4,
 "nbformat_minor": 5
}
